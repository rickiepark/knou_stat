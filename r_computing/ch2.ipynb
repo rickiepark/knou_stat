{
 "cells": [
  {
   "cell_type": "markdown",
   "metadata": {},
   "source": [
    "## 2.1 데이터 입력"
   ]
  },
  {
   "cell_type": "markdown",
   "metadata": {},
   "source": [
    "### 2.1.1"
   ]
  },
  {
   "cell_type": "code",
   "execution_count": 1,
   "metadata": {},
   "outputs": [
    {
     "data": {
      "text/html": [
       "'/Users/haesun/github/knou_stat/r_computing'"
      ],
      "text/latex": [
       "'/Users/haesun/github/knou\\_stat/r\\_computing'"
      ],
      "text/markdown": [
       "'/Users/haesun/github/knou_stat/r_computing'"
      ],
      "text/plain": [
       "[1] \"/Users/haesun/github/knou_stat/r_computing\""
      ]
     },
     "metadata": {},
     "output_type": "display_data"
    }
   ],
   "source": [
    "# 현재 디렉토리\n",
    "getwd()"
   ]
  },
  {
   "cell_type": "code",
   "execution_count": 2,
   "metadata": {},
   "outputs": [
    {
     "data": {
      "text/html": [
       "'/Users/haesun/github/knou_stat'"
      ],
      "text/latex": [
       "'/Users/haesun/github/knou\\_stat'"
      ],
      "text/markdown": [
       "'/Users/haesun/github/knou_stat'"
      ],
      "text/plain": [
       "[1] \"/Users/haesun/github/knou_stat\""
      ]
     },
     "metadata": {},
     "output_type": "display_data"
    }
   ],
   "source": [
    "# 디렉토리 지정\n",
    "setwd('../')\n",
    "getwd()"
   ]
  },
  {
   "cell_type": "code",
   "execution_count": 3,
   "metadata": {},
   "outputs": [
    {
     "data": {
      "text/html": [
       "'/Users/haesun/github/knou_stat/r_computing'"
      ],
      "text/latex": [
       "'/Users/haesun/github/knou\\_stat/r\\_computing'"
      ],
      "text/markdown": [
       "'/Users/haesun/github/knou_stat/r_computing'"
      ],
      "text/plain": [
       "[1] \"/Users/haesun/github/knou_stat/r_computing\""
      ]
     },
     "metadata": {},
     "output_type": "display_data"
    }
   ],
   "source": [
    "setwd('r_computing')\n",
    "getwd()"
   ]
  },
  {
   "cell_type": "markdown",
   "metadata": {},
   "source": [
    "### 2.1.2"
   ]
  },
  {
   "cell_type": "code",
   "execution_count": 4,
   "metadata": {},
   "outputs": [
    {
     "name": "stdout",
     "output_type": "stream",
     "text": [
      "[1] 1 2 3 4 5\n"
     ]
    }
   ],
   "source": [
    "# 벡터 생성\n",
    "x = c(1,2,3,4,5)\n",
    "print(x)"
   ]
  },
  {
   "cell_type": "code",
   "execution_count": 5,
   "metadata": {},
   "outputs": [
    {
     "name": "stdout",
     "output_type": "stream",
     "text": [
      "[1] 10 20 30 40 50\n"
     ]
    }
   ],
   "source": [
    "# 입력 결과 바로 출력\n",
    "print(y <- c(10,20,30,40,50))"
   ]
  },
  {
   "cell_type": "code",
   "execution_count": 6,
   "metadata": {},
   "outputs": [
    {
     "data": {
      "text/html": [
       "<table class=\"dataframe\">\n",
       "<caption>A matrix: 5 × 2 of type dbl</caption>\n",
       "<thead>\n",
       "\t<tr><th scope=col>x</th><th scope=col>y</th></tr>\n",
       "</thead>\n",
       "<tbody>\n",
       "\t<tr><td>1</td><td>10</td></tr>\n",
       "\t<tr><td>2</td><td>20</td></tr>\n",
       "\t<tr><td>3</td><td>30</td></tr>\n",
       "\t<tr><td>4</td><td>40</td></tr>\n",
       "\t<tr><td>5</td><td>50</td></tr>\n",
       "</tbody>\n",
       "</table>\n"
      ],
      "text/latex": [
       "A matrix: 5 × 2 of type dbl\n",
       "\\begin{tabular}{ll}\n",
       " x & y\\\\\n",
       "\\hline\n",
       "\t 1 & 10\\\\\n",
       "\t 2 & 20\\\\\n",
       "\t 3 & 30\\\\\n",
       "\t 4 & 40\\\\\n",
       "\t 5 & 50\\\\\n",
       "\\end{tabular}\n"
      ],
      "text/markdown": [
       "\n",
       "A matrix: 5 × 2 of type dbl\n",
       "\n",
       "| x | y |\n",
       "|---|---|\n",
       "| 1 | 10 |\n",
       "| 2 | 20 |\n",
       "| 3 | 30 |\n",
       "| 4 | 40 |\n",
       "| 5 | 50 |\n",
       "\n"
      ],
      "text/plain": [
       "     x y \n",
       "[1,] 1 10\n",
       "[2,] 2 20\n",
       "[3,] 3 30\n",
       "[4,] 4 40\n",
       "[5,] 5 50"
      ]
     },
     "metadata": {},
     "output_type": "display_data"
    }
   ],
   "source": [
    "# 열 병합\n",
    "dat = cbind(x, y)\n",
    "dat"
   ]
  },
  {
   "cell_type": "markdown",
   "metadata": {},
   "source": [
    "### 2.1.3"
   ]
  },
  {
   "cell_type": "code",
   "execution_count": 7,
   "metadata": {},
   "outputs": [],
   "source": [
    "# scan\n",
    "w1 <- scan()"
   ]
  },
  {
   "cell_type": "markdown",
   "metadata": {},
   "source": [
    "### 2.1.4"
   ]
  },
  {
   "cell_type": "code",
   "execution_count": 8,
   "metadata": {},
   "outputs": [],
   "source": [
    "# edit \n",
    "# dat3 = data.frame()\n",
    "# data3 = edit(dat3)"
   ]
  },
  {
   "cell_type": "markdown",
   "metadata": {},
   "source": [
    "## 2.2 데이터 저장"
   ]
  },
  {
   "cell_type": "markdown",
   "metadata": {},
   "source": [
    "### 2.2.1"
   ]
  },
  {
   "cell_type": "code",
   "execution_count": 9,
   "metadata": {},
   "outputs": [
    {
     "data": {
      "text/plain": [
       "  Sepal.Length    Sepal.Width     Petal.Length    Petal.Width   \n",
       " Min.   :4.300   Min.   :2.000   Min.   :1.000   Min.   :0.100  \n",
       " 1st Qu.:5.100   1st Qu.:2.800   1st Qu.:1.600   1st Qu.:0.300  \n",
       " Median :5.800   Median :3.000   Median :4.350   Median :1.300  \n",
       " Mean   :5.843   Mean   :3.057   Mean   :3.758   Mean   :1.199  \n",
       " 3rd Qu.:6.400   3rd Qu.:3.300   3rd Qu.:5.100   3rd Qu.:1.800  \n",
       " Max.   :7.900   Max.   :4.400   Max.   :6.900   Max.   :2.500  \n",
       "       Species  \n",
       " setosa    :50  \n",
       " versicolor:50  \n",
       " virginica :50  \n",
       "                \n",
       "                \n",
       "                "
      ]
     },
     "metadata": {},
     "output_type": "display_data"
    }
   ],
   "source": [
    "# 화면 출력 결과 저장\n",
    "sink('printa.txt')\n",
    "summary(iris)\n",
    "sink()"
   ]
  },
  {
   "cell_type": "code",
   "execution_count": 10,
   "metadata": {},
   "outputs": [
    {
     "data": {
      "text/html": [
       "<style>\n",
       ".list-inline {list-style: none; margin:0; padding: 0}\n",
       ".list-inline>li {display: inline-block}\n",
       ".list-inline>li:not(:last-child)::after {content: \"\\00b7\"; padding: 0 .5ex}\n",
       "</style>\n",
       "<ol class=list-inline><li>'2장.ipynb'</li><li>'dat3_exam1.txt'</li><li>'printa.txt'</li><li>'USArrestd.csv'</li></ol>\n"
      ],
      "text/latex": [
       "\\begin{enumerate*}\n",
       "\\item '2장.ipynb'\n",
       "\\item 'dat3\\_exam1.txt'\n",
       "\\item 'printa.txt'\n",
       "\\item 'USArrestd.csv'\n",
       "\\end{enumerate*}\n"
      ],
      "text/markdown": [
       "1. '2장.ipynb'\n",
       "2. 'dat3_exam1.txt'\n",
       "3. 'printa.txt'\n",
       "4. 'USArrestd.csv'\n",
       "\n",
       "\n"
      ],
      "text/plain": [
       "[1] \"2장.ipynb\"      \"dat3_exam1.txt\" \"printa.txt\"     \"USArrestd.csv\" "
      ]
     },
     "metadata": {},
     "output_type": "display_data"
    }
   ],
   "source": [
    "# 주피터 노트북에서는 파일에 출력 내용이 저장되지 않음\n",
    "list.files()"
   ]
  },
  {
   "cell_type": "code",
   "execution_count": 11,
   "metadata": {},
   "outputs": [
    {
     "data": {
      "text/html": [
       "''"
      ],
      "text/latex": [
       "''"
      ],
      "text/markdown": [
       "''"
      ],
      "text/plain": [
       "[1] \"\""
      ]
     },
     "metadata": {},
     "output_type": "display_data"
    }
   ],
   "source": [
    "library(\"readr\")\n",
    "\n",
    "read_file('printa.txt')"
   ]
  },
  {
   "cell_type": "markdown",
   "metadata": {},
   "source": [
    "### 2.2.2"
   ]
  },
  {
   "cell_type": "code",
   "execution_count": 12,
   "metadata": {},
   "outputs": [
    {
     "data": {
      "text/html": [
       "<style>\n",
       ".list-inline {list-style: none; margin:0; padding: 0}\n",
       ".list-inline>li {display: inline-block}\n",
       ".list-inline>li:not(:last-child)::after {content: \"\\00b7\"; padding: 0 .5ex}\n",
       "</style>\n",
       "<ol class=list-inline><li>'2장.ipynb'</li><li>'dat_exam1.csv'</li><li>'dat3_exam1.txt'</li><li>'printa.txt'</li><li>'USArrestd.csv'</li></ol>\n"
      ],
      "text/latex": [
       "\\begin{enumerate*}\n",
       "\\item '2장.ipynb'\n",
       "\\item 'dat\\_exam1.csv'\n",
       "\\item 'dat3\\_exam1.txt'\n",
       "\\item 'printa.txt'\n",
       "\\item 'USArrestd.csv'\n",
       "\\end{enumerate*}\n"
      ],
      "text/markdown": [
       "1. '2장.ipynb'\n",
       "2. 'dat_exam1.csv'\n",
       "3. 'dat3_exam1.txt'\n",
       "4. 'printa.txt'\n",
       "5. 'USArrestd.csv'\n",
       "\n",
       "\n"
      ],
      "text/plain": [
       "[1] \"2장.ipynb\"      \"dat_exam1.csv\"  \"dat3_exam1.txt\" \"printa.txt\"    \n",
       "[5] \"USArrestd.csv\" "
      ]
     },
     "metadata": {},
     "output_type": "display_data"
    }
   ],
   "source": [
    "write.csv(dat, 'dat_exam1.csv')\n",
    "list.files()"
   ]
  },
  {
   "cell_type": "code",
   "execution_count": 13,
   "metadata": {},
   "outputs": [
    {
     "data": {
      "text/html": [
       "'\"\",\"x\",\"y\"\\n\"1\",1,10\\n\"2\",2,20\\n\"3\",3,30\\n\"4\",4,40\\n\"5\",5,50\\n'"
      ],
      "text/latex": [
       "'\"\",\"x\",\"y\"\\textbackslash{}n\"1\",1,10\\textbackslash{}n\"2\",2,20\\textbackslash{}n\"3\",3,30\\textbackslash{}n\"4\",4,40\\textbackslash{}n\"5\",5,50\\textbackslash{}n'"
      ],
      "text/markdown": [
       "'\"\",\"x\",\"y\"\\n\"1\",1,10\\n\"2\",2,20\\n\"3\",3,30\\n\"4\",4,40\\n\"5\",5,50\\n'"
      ],
      "text/plain": [
       "[1] \"\\\"\\\",\\\"x\\\",\\\"y\\\"\\n\\\"1\\\",1,10\\n\\\"2\\\",2,20\\n\\\"3\\\",3,30\\n\\\"4\\\",4,40\\n\\\"5\\\",5,50\\n\""
      ]
     },
     "metadata": {},
     "output_type": "display_data"
    }
   ],
   "source": [
    "read_file(\"dat_exam1.csv\")"
   ]
  },
  {
   "cell_type": "code",
   "execution_count": 14,
   "metadata": {},
   "outputs": [
    {
     "data": {
      "text/html": [
       "',x,y\\n1,1,10\\n2,2,20\\n3,3,30\\n4,4,40\\n5,5,50\\n'"
      ],
      "text/latex": [
       "',x,y\\textbackslash{}n1,1,10\\textbackslash{}n2,2,20\\textbackslash{}n3,3,30\\textbackslash{}n4,4,40\\textbackslash{}n5,5,50\\textbackslash{}n'"
      ],
      "text/markdown": [
       "',x,y\\n1,1,10\\n2,2,20\\n3,3,30\\n4,4,40\\n5,5,50\\n'"
      ],
      "text/plain": [
       "[1] \",x,y\\n1,1,10\\n2,2,20\\n3,3,30\\n4,4,40\\n5,5,50\\n\""
      ]
     },
     "metadata": {},
     "output_type": "display_data"
    }
   ],
   "source": [
    "write.csv(dat, 'dat_exam1.csv', quote=FALSE)\n",
    "read_file(\"dat_exam1.csv\")"
   ]
  },
  {
   "cell_type": "markdown",
   "metadata": {},
   "source": [
    "### 2.2.3"
   ]
  },
  {
   "cell_type": "code",
   "execution_count": 15,
   "metadata": {},
   "outputs": [
    {
     "data": {
      "text/html": [
       "'\"x\" \"y\"\\n\"1\" 1 10\\n\"2\" 2 20\\n\"3\" 3 30\\n\"4\" 4 40\\n\"5\" 5 50\\n'"
      ],
      "text/latex": [
       "'\"x\" \"y\"\\textbackslash{}n\"1\" 1 10\\textbackslash{}n\"2\" 2 20\\textbackslash{}n\"3\" 3 30\\textbackslash{}n\"4\" 4 40\\textbackslash{}n\"5\" 5 50\\textbackslash{}n'"
      ],
      "text/markdown": [
       "'\"x\" \"y\"\\n\"1\" 1 10\\n\"2\" 2 20\\n\"3\" 3 30\\n\"4\" 4 40\\n\"5\" 5 50\\n'"
      ],
      "text/plain": [
       "[1] \"\\\"x\\\" \\\"y\\\"\\n\\\"1\\\" 1 10\\n\\\"2\\\" 2 20\\n\\\"3\\\" 3 30\\n\\\"4\\\" 4 40\\n\\\"5\\\" 5 50\\n\""
      ]
     },
     "metadata": {},
     "output_type": "display_data"
    }
   ],
   "source": [
    "# 공백으로 구분하여 저장\n",
    "write.table(dat, 'dat_exam2.txt')\n",
    "read_file(\"dat_exam2.txt\")"
   ]
  },
  {
   "cell_type": "code",
   "execution_count": 16,
   "metadata": {},
   "outputs": [
    {
     "data": {
      "text/html": [
       "'x y\\n1 1 10\\n2 2 20\\n3 3 30\\n4 4 40\\n5 5 50\\n'"
      ],
      "text/latex": [
       "'x y\\textbackslash{}n1 1 10\\textbackslash{}n2 2 20\\textbackslash{}n3 3 30\\textbackslash{}n4 4 40\\textbackslash{}n5 5 50\\textbackslash{}n'"
      ],
      "text/markdown": [
       "'x y\\n1 1 10\\n2 2 20\\n3 3 30\\n4 4 40\\n5 5 50\\n'"
      ],
      "text/plain": [
       "[1] \"x y\\n1 1 10\\n2 2 20\\n3 3 30\\n4 4 40\\n5 5 50\\n\""
      ]
     },
     "metadata": {},
     "output_type": "display_data"
    }
   ],
   "source": [
    "write.table(dat, 'dat_exam2.txt', quote=FALSE)\n",
    "read_file(\"dat_exam2.txt\")"
   ]
  },
  {
   "cell_type": "code",
   "execution_count": 17,
   "metadata": {},
   "outputs": [
    {
     "data": {
      "text/html": [
       "'\"x\",\"y\"\\n\"1\",1,10\\n\"2\",2,20\\n\"3\",3,30\\n\"4\",4,40\\n\"5\",5,50\\n'"
      ],
      "text/latex": [
       "'\"x\",\"y\"\\textbackslash{}n\"1\",1,10\\textbackslash{}n\"2\",2,20\\textbackslash{}n\"3\",3,30\\textbackslash{}n\"4\",4,40\\textbackslash{}n\"5\",5,50\\textbackslash{}n'"
      ],
      "text/markdown": [
       "'\"x\",\"y\"\\n\"1\",1,10\\n\"2\",2,20\\n\"3\",3,30\\n\"4\",4,40\\n\"5\",5,50\\n'"
      ],
      "text/plain": [
       "[1] \"\\\"x\\\",\\\"y\\\"\\n\\\"1\\\",1,10\\n\\\"2\\\",2,20\\n\\\"3\\\",3,30\\n\\\"4\\\",4,40\\n\\\"5\\\",5,50\\n\""
      ]
     },
     "metadata": {},
     "output_type": "display_data"
    }
   ],
   "source": [
    "# 콤마로 구분하여 저장\n",
    "write.table(dat, 'dat_exam2.txt', sep=',')\n",
    "read_file(\"dat_exam2.txt\")"
   ]
  },
  {
   "cell_type": "code",
   "execution_count": 18,
   "metadata": {},
   "outputs": [],
   "source": [
    "write.table(dat, 'dat_exam2.txt')"
   ]
  },
  {
   "cell_type": "markdown",
   "metadata": {},
   "source": [
    "## 2.3 데이터 불러오기"
   ]
  },
  {
   "cell_type": "markdown",
   "metadata": {},
   "source": [
    "### 2.3.1"
   ]
  },
  {
   "cell_type": "code",
   "execution_count": 19,
   "metadata": {},
   "outputs": [
    {
     "data": {
      "text/html": [
       "<table class=\"dataframe\">\n",
       "<caption>A data.frame: 5 × 3</caption>\n",
       "<thead>\n",
       "\t<tr><th scope=col>X</th><th scope=col>x</th><th scope=col>y</th></tr>\n",
       "\t<tr><th scope=col>&lt;int&gt;</th><th scope=col>&lt;int&gt;</th><th scope=col>&lt;int&gt;</th></tr>\n",
       "</thead>\n",
       "<tbody>\n",
       "\t<tr><td>1</td><td>1</td><td>10</td></tr>\n",
       "\t<tr><td>2</td><td>2</td><td>20</td></tr>\n",
       "\t<tr><td>3</td><td>3</td><td>30</td></tr>\n",
       "\t<tr><td>4</td><td>4</td><td>40</td></tr>\n",
       "\t<tr><td>5</td><td>5</td><td>50</td></tr>\n",
       "</tbody>\n",
       "</table>\n"
      ],
      "text/latex": [
       "A data.frame: 5 × 3\n",
       "\\begin{tabular}{lll}\n",
       " X & x & y\\\\\n",
       " <int> & <int> & <int>\\\\\n",
       "\\hline\n",
       "\t 1 & 1 & 10\\\\\n",
       "\t 2 & 2 & 20\\\\\n",
       "\t 3 & 3 & 30\\\\\n",
       "\t 4 & 4 & 40\\\\\n",
       "\t 5 & 5 & 50\\\\\n",
       "\\end{tabular}\n"
      ],
      "text/markdown": [
       "\n",
       "A data.frame: 5 × 3\n",
       "\n",
       "| X &lt;int&gt; | x &lt;int&gt; | y &lt;int&gt; |\n",
       "|---|---|---|\n",
       "| 1 | 1 | 10 |\n",
       "| 2 | 2 | 20 |\n",
       "| 3 | 3 | 30 |\n",
       "| 4 | 4 | 40 |\n",
       "| 5 | 5 | 50 |\n",
       "\n"
      ],
      "text/plain": [
       "  X x y \n",
       "1 1 1 10\n",
       "2 2 2 20\n",
       "3 3 3 30\n",
       "4 4 4 40\n",
       "5 5 5 50"
      ]
     },
     "metadata": {},
     "output_type": "display_data"
    }
   ],
   "source": [
    "dat2 = read.csv('dat_exam1.csv')\n",
    "dat2"
   ]
  },
  {
   "cell_type": "code",
   "execution_count": 20,
   "metadata": {},
   "outputs": [
    {
     "data": {
      "text/html": [
       "FALSE"
      ],
      "text/latex": [
       "FALSE"
      ],
      "text/markdown": [
       "FALSE"
      ],
      "text/plain": [
       "[1] FALSE"
      ]
     },
     "metadata": {},
     "output_type": "display_data"
    }
   ],
   "source": [
    "# factor 처리 방식\n",
    "default.stringsAsFactors()"
   ]
  },
  {
   "cell_type": "code",
   "execution_count": 21,
   "metadata": {},
   "outputs": [
    {
     "data": {
      "text/html": [
       "<table class=\"dataframe\">\n",
       "<caption>A data.frame: 6 × 5</caption>\n",
       "<thead>\n",
       "\t<tr><th></th><th scope=col>State</th><th scope=col>Murder</th><th scope=col>Assault</th><th scope=col>UrbanPop</th><th scope=col>Rape</th></tr>\n",
       "\t<tr><th></th><th scope=col>&lt;fct&gt;</th><th scope=col>&lt;dbl&gt;</th><th scope=col>&lt;int&gt;</th><th scope=col>&lt;int&gt;</th><th scope=col>&lt;dbl&gt;</th></tr>\n",
       "</thead>\n",
       "<tbody>\n",
       "\t<tr><th scope=row>1</th><td>Alabama   </td><td>13.2</td><td>236</td><td>58</td><td>21.2</td></tr>\n",
       "\t<tr><th scope=row>2</th><td>Alaska    </td><td>10.0</td><td>263</td><td>48</td><td>44.5</td></tr>\n",
       "\t<tr><th scope=row>3</th><td>Arizona   </td><td> 8.1</td><td>294</td><td>80</td><td>31.0</td></tr>\n",
       "\t<tr><th scope=row>4</th><td>Arkansas  </td><td> 8.8</td><td>190</td><td>50</td><td>19.5</td></tr>\n",
       "\t<tr><th scope=row>5</th><td>California</td><td> 9.0</td><td>276</td><td>91</td><td>40.6</td></tr>\n",
       "\t<tr><th scope=row>6</th><td>Colorado  </td><td> 7.9</td><td>204</td><td>78</td><td>38.7</td></tr>\n",
       "</tbody>\n",
       "</table>\n"
      ],
      "text/latex": [
       "A data.frame: 6 × 5\n",
       "\\begin{tabular}{r|lllll}\n",
       "  & State & Murder & Assault & UrbanPop & Rape\\\\\n",
       "  & <fct> & <dbl> & <int> & <int> & <dbl>\\\\\n",
       "\\hline\n",
       "\t1 & Alabama    & 13.2 & 236 & 58 & 21.2\\\\\n",
       "\t2 & Alaska     & 10.0 & 263 & 48 & 44.5\\\\\n",
       "\t3 & Arizona    &  8.1 & 294 & 80 & 31.0\\\\\n",
       "\t4 & Arkansas   &  8.8 & 190 & 50 & 19.5\\\\\n",
       "\t5 & California &  9.0 & 276 & 91 & 40.6\\\\\n",
       "\t6 & Colorado   &  7.9 & 204 & 78 & 38.7\\\\\n",
       "\\end{tabular}\n"
      ],
      "text/markdown": [
       "\n",
       "A data.frame: 6 × 5\n",
       "\n",
       "| <!--/--> | State &lt;fct&gt; | Murder &lt;dbl&gt; | Assault &lt;int&gt; | UrbanPop &lt;int&gt; | Rape &lt;dbl&gt; |\n",
       "|---|---|---|---|---|---|\n",
       "| 1 | Alabama    | 13.2 | 236 | 58 | 21.2 |\n",
       "| 2 | Alaska     | 10.0 | 263 | 48 | 44.5 |\n",
       "| 3 | Arizona    |  8.1 | 294 | 80 | 31.0 |\n",
       "| 4 | Arkansas   |  8.8 | 190 | 50 | 19.5 |\n",
       "| 5 | California |  9.0 | 276 | 91 | 40.6 |\n",
       "| 6 | Colorado   |  7.9 | 204 | 78 | 38.7 |\n",
       "\n"
      ],
      "text/plain": [
       "  State      Murder Assault UrbanPop Rape\n",
       "1 Alabama    13.2   236     58       21.2\n",
       "2 Alaska     10.0   263     48       44.5\n",
       "3 Arizona     8.1   294     80       31.0\n",
       "4 Arkansas    8.8   190     50       19.5\n",
       "5 California  9.0   276     91       40.6\n",
       "6 Colorado    7.9   204     78       38.7"
      ]
     },
     "metadata": {},
     "output_type": "display_data"
    }
   ],
   "source": [
    "us_dat = read.csv('USArrestd.csv', header=T, stringsAsFactors=T)\n",
    "head(us_dat)"
   ]
  },
  {
   "cell_type": "markdown",
   "metadata": {},
   "source": [
    "### 2.3.2"
   ]
  },
  {
   "cell_type": "code",
   "execution_count": 22,
   "metadata": {},
   "outputs": [
    {
     "name": "stdout",
     "output_type": "stream",
     "text": [
      "'data.frame':\t50 obs. of  5 variables:\n",
      " $ State   : Factor w/ 50 levels \"Alabama\",\"Alaska\",..: 1 2 3 4 5 6 7 8 9 10 ...\n",
      " $ Murder  : num  13.2 10 8.1 8.8 9 7.9 3.3 5.9 15.4 17.4 ...\n",
      " $ Assault : int  236 263 294 190 276 204 110 238 335 211 ...\n",
      " $ UrbanPop: int  58 48 80 50 91 78 77 72 80 60 ...\n",
      " $ Rape    : num  21.2 44.5 31 19.5 40.6 38.7 11.1 15.8 31.9 25.8 ...\n"
     ]
    }
   ],
   "source": [
    "# 문자를 팩터로 인식\n",
    "str(us_dat)"
   ]
  },
  {
   "cell_type": "code",
   "execution_count": 23,
   "metadata": {},
   "outputs": [
    {
     "name": "stdout",
     "output_type": "stream",
     "text": [
      "'data.frame':\t50 obs. of  5 variables:\n",
      " $ State   : chr  \"Alabama\" \"Alaska\" \"Arizona\" \"Arkansas\" ...\n",
      " $ Murder  : num  13.2 10 8.1 8.8 9 7.9 3.3 5.9 15.4 17.4 ...\n",
      " $ Assault : int  236 263 294 190 276 204 110 238 335 211 ...\n",
      " $ UrbanPop: int  58 48 80 50 91 78 77 72 80 60 ...\n",
      " $ Rape    : num  21.2 44.5 31 19.5 40.6 38.7 11.1 15.8 31.9 25.8 ...\n"
     ]
    }
   ],
   "source": [
    "# 문자를 팩터로 인식하지 않음\n",
    "us_dat = read.csv('USArrestd.csv', header=T)\n",
    "str(us_dat)"
   ]
  },
  {
   "cell_type": "markdown",
   "metadata": {},
   "source": [
    "### 2.3.3"
   ]
  },
  {
   "cell_type": "code",
   "execution_count": 24,
   "metadata": {},
   "outputs": [
    {
     "data": {
      "text/html": [
       "<table class=\"dataframe\">\n",
       "<caption>A data.frame: 5 × 2</caption>\n",
       "<thead>\n",
       "\t<tr><th></th><th scope=col>x</th><th scope=col>y</th></tr>\n",
       "\t<tr><th></th><th scope=col>&lt;int&gt;</th><th scope=col>&lt;int&gt;</th></tr>\n",
       "</thead>\n",
       "<tbody>\n",
       "\t<tr><th scope=row>1</th><td>1</td><td>10</td></tr>\n",
       "\t<tr><th scope=row>2</th><td>2</td><td>20</td></tr>\n",
       "\t<tr><th scope=row>3</th><td>3</td><td>30</td></tr>\n",
       "\t<tr><th scope=row>4</th><td>4</td><td>40</td></tr>\n",
       "\t<tr><th scope=row>5</th><td>5</td><td>50</td></tr>\n",
       "</tbody>\n",
       "</table>\n"
      ],
      "text/latex": [
       "A data.frame: 5 × 2\n",
       "\\begin{tabular}{r|ll}\n",
       "  & x & y\\\\\n",
       "  & <int> & <int>\\\\\n",
       "\\hline\n",
       "\t1 & 1 & 10\\\\\n",
       "\t2 & 2 & 20\\\\\n",
       "\t3 & 3 & 30\\\\\n",
       "\t4 & 4 & 40\\\\\n",
       "\t5 & 5 & 50\\\\\n",
       "\\end{tabular}\n"
      ],
      "text/markdown": [
       "\n",
       "A data.frame: 5 × 2\n",
       "\n",
       "| <!--/--> | x &lt;int&gt; | y &lt;int&gt; |\n",
       "|---|---|---|\n",
       "| 1 | 1 | 10 |\n",
       "| 2 | 2 | 20 |\n",
       "| 3 | 3 | 30 |\n",
       "| 4 | 4 | 40 |\n",
       "| 5 | 5 | 50 |\n",
       "\n"
      ],
      "text/plain": [
       "  x y \n",
       "1 1 10\n",
       "2 2 20\n",
       "3 3 30\n",
       "4 4 40\n",
       "5 5 50"
      ]
     },
     "metadata": {},
     "output_type": "display_data"
    }
   ],
   "source": [
    "read.table('dat_exam2.txt', header=T)"
   ]
  },
  {
   "cell_type": "code",
   "execution_count": 25,
   "metadata": {},
   "outputs": [
    {
     "data": {
      "text/html": [
       "<table class=\"dataframe\">\n",
       "<caption>A data.frame: 5 × 2</caption>\n",
       "<thead>\n",
       "\t<tr><th></th><th scope=col>x</th><th scope=col>y</th></tr>\n",
       "\t<tr><th></th><th scope=col>&lt;int&gt;</th><th scope=col>&lt;int&gt;</th></tr>\n",
       "</thead>\n",
       "<tbody>\n",
       "\t<tr><th scope=row>1</th><td>1</td><td>10</td></tr>\n",
       "\t<tr><th scope=row>2</th><td>2</td><td>20</td></tr>\n",
       "\t<tr><th scope=row>3</th><td>3</td><td>30</td></tr>\n",
       "\t<tr><th scope=row>4</th><td>4</td><td>40</td></tr>\n",
       "\t<tr><th scope=row>5</th><td>5</td><td>50</td></tr>\n",
       "</tbody>\n",
       "</table>\n"
      ],
      "text/latex": [
       "A data.frame: 5 × 2\n",
       "\\begin{tabular}{r|ll}\n",
       "  & x & y\\\\\n",
       "  & <int> & <int>\\\\\n",
       "\\hline\n",
       "\t1 & 1 & 10\\\\\n",
       "\t2 & 2 & 20\\\\\n",
       "\t3 & 3 & 30\\\\\n",
       "\t4 & 4 & 40\\\\\n",
       "\t5 & 5 & 50\\\\\n",
       "\\end{tabular}\n"
      ],
      "text/markdown": [
       "\n",
       "A data.frame: 5 × 2\n",
       "\n",
       "| <!--/--> | x &lt;int&gt; | y &lt;int&gt; |\n",
       "|---|---|---|\n",
       "| 1 | 1 | 10 |\n",
       "| 2 | 2 | 20 |\n",
       "| 3 | 3 | 30 |\n",
       "| 4 | 4 | 40 |\n",
       "| 5 | 5 | 50 |\n",
       "\n"
      ],
      "text/plain": [
       "  x y \n",
       "1 1 10\n",
       "2 2 20\n",
       "3 3 30\n",
       "4 4 40\n",
       "5 5 50"
      ]
     },
     "metadata": {},
     "output_type": "display_data"
    }
   ],
   "source": [
    "read.table('dat_exam2.txt')"
   ]
  },
  {
   "cell_type": "markdown",
   "metadata": {},
   "source": [
    "### 2.3.4 "
   ]
  },
  {
   "cell_type": "code",
   "execution_count": 26,
   "metadata": {},
   "outputs": [
    {
     "data": {
      "text/html": [
       "'\"x\" \"y\"\\n\"1\" 1 aa\\n\"2\" 2 20\\n\"3\" 3 30\\n\"4\" 4 40\\n\"5\" 5 50\\n'"
      ],
      "text/latex": [
       "'\"x\" \"y\"\\textbackslash{}n\"1\" 1 aa\\textbackslash{}n\"2\" 2 20\\textbackslash{}n\"3\" 3 30\\textbackslash{}n\"4\" 4 40\\textbackslash{}n\"5\" 5 50\\textbackslash{}n'"
      ],
      "text/markdown": [
       "'\"x\" \"y\"\\n\"1\" 1 aa\\n\"2\" 2 20\\n\"3\" 3 30\\n\"4\" 4 40\\n\"5\" 5 50\\n'"
      ],
      "text/plain": [
       "[1] \"\\\"x\\\" \\\"y\\\"\\n\\\"1\\\" 1 aa\\n\\\"2\\\" 2 20\\n\\\"3\\\" 3 30\\n\\\"4\\\" 4 40\\n\\\"5\\\" 5 50\\n\""
      ]
     },
     "metadata": {},
     "output_type": "display_data"
    }
   ],
   "source": [
    "read_file('dat3_exam1.txt')"
   ]
  },
  {
   "cell_type": "code",
   "execution_count": 27,
   "metadata": {},
   "outputs": [
    {
     "data": {
      "text/html": [
       "<table class=\"dataframe\">\n",
       "<caption>A data.frame: 5 × 2</caption>\n",
       "<thead>\n",
       "\t<tr><th></th><th scope=col>x</th><th scope=col>y</th></tr>\n",
       "\t<tr><th></th><th scope=col>&lt;int&gt;</th><th scope=col>&lt;int&gt;</th></tr>\n",
       "</thead>\n",
       "<tbody>\n",
       "\t<tr><th scope=row>1</th><td>1</td><td>NA</td></tr>\n",
       "\t<tr><th scope=row>2</th><td>2</td><td>20</td></tr>\n",
       "\t<tr><th scope=row>3</th><td>3</td><td>30</td></tr>\n",
       "\t<tr><th scope=row>4</th><td>4</td><td>40</td></tr>\n",
       "\t<tr><th scope=row>5</th><td>5</td><td>50</td></tr>\n",
       "</tbody>\n",
       "</table>\n"
      ],
      "text/latex": [
       "A data.frame: 5 × 2\n",
       "\\begin{tabular}{r|ll}\n",
       "  & x & y\\\\\n",
       "  & <int> & <int>\\\\\n",
       "\\hline\n",
       "\t1 & 1 & NA\\\\\n",
       "\t2 & 2 & 20\\\\\n",
       "\t3 & 3 & 30\\\\\n",
       "\t4 & 4 & 40\\\\\n",
       "\t5 & 5 & 50\\\\\n",
       "\\end{tabular}\n"
      ],
      "text/markdown": [
       "\n",
       "A data.frame: 5 × 2\n",
       "\n",
       "| <!--/--> | x &lt;int&gt; | y &lt;int&gt; |\n",
       "|---|---|---|\n",
       "| 1 | 1 | NA |\n",
       "| 2 | 2 | 20 |\n",
       "| 3 | 3 | 30 |\n",
       "| 4 | 4 | 40 |\n",
       "| 5 | 5 | 50 |\n",
       "\n"
      ],
      "text/plain": [
       "  x y \n",
       "1 1 NA\n",
       "2 2 20\n",
       "3 3 30\n",
       "4 4 40\n",
       "5 5 50"
      ]
     },
     "metadata": {},
     "output_type": "display_data"
    }
   ],
   "source": [
    "nadat = read.table('dat3_exam1.txt', na.strings='aa', header=T)\n",
    "nadat"
   ]
  },
  {
   "cell_type": "markdown",
   "metadata": {},
   "source": [
    "## 2.4 객체 확인 및 삭제"
   ]
  },
  {
   "cell_type": "code",
   "execution_count": 28,
   "metadata": {},
   "outputs": [
    {
     "data": {
      "text/html": [
       "<style>\n",
       ".list-inline {list-style: none; margin:0; padding: 0}\n",
       ".list-inline>li {display: inline-block}\n",
       ".list-inline>li:not(:last-child)::after {content: \"\\00b7\"; padding: 0 .5ex}\n",
       "</style>\n",
       "<ol class=list-inline><li>'dat'</li><li>'dat2'</li><li>'nadat'</li><li>'us_dat'</li><li>'w1'</li><li>'x'</li><li>'y'</li></ol>\n"
      ],
      "text/latex": [
       "\\begin{enumerate*}\n",
       "\\item 'dat'\n",
       "\\item 'dat2'\n",
       "\\item 'nadat'\n",
       "\\item 'us\\_dat'\n",
       "\\item 'w1'\n",
       "\\item 'x'\n",
       "\\item 'y'\n",
       "\\end{enumerate*}\n"
      ],
      "text/markdown": [
       "1. 'dat'\n",
       "2. 'dat2'\n",
       "3. 'nadat'\n",
       "4. 'us_dat'\n",
       "5. 'w1'\n",
       "6. 'x'\n",
       "7. 'y'\n",
       "\n",
       "\n"
      ],
      "text/plain": [
       "[1] \"dat\"    \"dat2\"   \"nadat\"  \"us_dat\" \"w1\"     \"x\"      \"y\"     "
      ]
     },
     "metadata": {},
     "output_type": "display_data"
    }
   ],
   "source": [
    "ls()"
   ]
  },
  {
   "cell_type": "code",
   "execution_count": 29,
   "metadata": {},
   "outputs": [],
   "source": [
    "rm(list=ls())"
   ]
  },
  {
   "cell_type": "code",
   "execution_count": 30,
   "metadata": {},
   "outputs": [
    {
     "data": {
      "text/html": [],
      "text/latex": [],
      "text/markdown": [],
      "text/plain": [
       "character(0)"
      ]
     },
     "metadata": {},
     "output_type": "display_data"
    }
   ],
   "source": [
    "ls()"
   ]
  }
 ],
 "metadata": {
  "kernelspec": {
   "display_name": "R",
   "language": "R",
   "name": "ir"
  },
  "language_info": {
   "codemirror_mode": "r",
   "file_extension": ".r",
   "mimetype": "text/x-r-source",
   "name": "R",
   "pygments_lexer": "r",
   "version": "4.0.3"
  }
 },
 "nbformat": 4,
 "nbformat_minor": 4
}
